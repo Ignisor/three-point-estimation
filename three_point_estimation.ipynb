{
 "cells": [
  {
   "cell_type": "markdown",
   "metadata": {},
   "source": [
    "# Three-point estimation"
   ]
  },
  {
   "cell_type": "code",
   "execution_count": 1,
   "metadata": {
    "scrolled": true
   },
   "outputs": [
    {
     "data": {
      "text/html": [
       "<script>\n",
       "code_show=true; \n",
       "function code_toggle() {\n",
       " if (code_show){\n",
       " $('div.input').hide();\n",
       " } else {\n",
       " $('div.input').show();\n",
       " }\n",
       " code_show = !code_show\n",
       "} \n",
       "$( document ).ready(code_toggle);\n",
       "</script>\n",
       "<form action=\"javascript:code_toggle()\"><input type=\"submit\" value=\"Click here to toggle on/off the raw code.\"></form>"
      ],
      "text/plain": [
       "<IPython.core.display.HTML object>"
      ]
     },
     "execution_count": 1,
     "metadata": {},
     "output_type": "execute_result"
    }
   ],
   "source": [
    "from IPython.display import HTML\n",
    "\n",
    "\n",
    "HTML('''<script>\n",
    "code_show=true; \n",
    "function code_toggle() {\n",
    " if (code_show){\n",
    " $('div.input').hide();\n",
    " } else {\n",
    " $('div.input').show();\n",
    " }\n",
    " code_show = !code_show\n",
    "} \n",
    "$( document ).ready(code_toggle);\n",
    "</script>\n",
    "<form action=\"javascript:code_toggle()\"><input type=\"submit\" value=\"Click here to toggle on/off the raw code.\"></form>''')"
   ]
  },
  {
   "cell_type": "code",
   "execution_count": 2,
   "metadata": {},
   "outputs": [],
   "source": [
    "class Task(object):\n",
    "    def __init__(self, text_w, del_button, best, likely, worst, container):\n",
    "        self.is_active = True\n",
    "        \n",
    "        self.text_w = text_w\n",
    "        self.del_button = del_button\n",
    "        self.best = best\n",
    "        self.likely = likely\n",
    "        self.worst = worst\n",
    "        self.container = container\n",
    "        \n",
    "        self.estimation = None\n",
    "        self.deviation = None\n",
    "        \n",
    "    def calculate(self):\n",
    "        a = self.best.value\n",
    "        m = self.likely.value\n",
    "        b = self.worst.value\n",
    "        \n",
    "        self.estimation = (a + 4 * m + b) / 6\n",
    "        self.deviation = (b - a) / 6\n",
    "    \n",
    "    def deactivate(self):\n",
    "        self.is_active = False\n",
    "        self.container.close()\n"
   ]
  },
  {
   "cell_type": "code",
   "execution_count": 3,
   "metadata": {
    "scrolled": true
   },
   "outputs": [
    {
     "data": {
      "application/vnd.jupyter.widget-view+json": {
       "model_id": "3e7b4839cb8c4f4e884401f13bd8b9d3",
       "version_major": 2,
       "version_minor": 0
      },
      "text/plain": [
       "Button(description='Add task', icon='plus', style=ButtonStyle(), tooltip='Add one more task')"
      ]
     },
     "metadata": {},
     "output_type": "display_data"
    }
   ],
   "source": [
    "import ipywidgets as widgets\n",
    "\n",
    "\n",
    "tasks = {}\n",
    "def add_task_widget(button):\n",
    "    task_id = max(tasks.keys(), default=0) + 1\n",
    "    text = widgets.Text(\n",
    "        value='Task #{}'.format(task_id),\n",
    "        placeholder='Task name',\n",
    "    )\n",
    "    del_button = widgets.Button(\n",
    "        description='',\n",
    "        tooltip='Delete task',\n",
    "        icon='minus',\n",
    "        button_style='danger',\n",
    "    )\n",
    "    best = widgets.FloatText(\n",
    "        description='Best-case estimate:',\n",
    "    )\n",
    "    likely = widgets.FloatText(\n",
    "        description='Most likely estimate:',\n",
    "    )\n",
    "    worst = widgets.FloatText(\n",
    "        description='Worst-case estimate:',\n",
    "    )\n",
    "    \n",
    "    task_hboxes = (\n",
    "        widgets.HBox((text, del_button)),\n",
    "        widgets.VBox((best, likely, worst)),\n",
    "    )\n",
    "    task_vbox = widgets.VBox(task_hboxes)\n",
    "    task = Task(text, del_button, best, likely, worst, container=task_vbox)\n",
    "    \n",
    "    del_button.on_click(lambda b: task.deactivate())\n",
    "\n",
    "    tasks[task_id] = task\n",
    "    display(task_vbox)\n",
    "    \n",
    "\n",
    "button = widgets.Button(\n",
    "    description='Add task',\n",
    "    tooltip='Add one more task',\n",
    "    icon='plus',\n",
    ")\n",
    "button.on_click(add_task_widget)\n",
    "button"
   ]
  },
  {
   "cell_type": "code",
   "execution_count": 4,
   "metadata": {},
   "outputs": [
    {
     "data": {
      "application/vnd.jupyter.widget-view+json": {
       "model_id": "64428033a44c441cb1a7b9eba236836e",
       "version_major": 2,
       "version_minor": 0
      },
      "text/plain": [
       "Output(layout=Layout(border='1px solid black'))"
      ]
     },
     "metadata": {},
     "output_type": "display_data"
    },
    {
     "data": {
      "application/vnd.jupyter.widget-view+json": {
       "model_id": "6ec6273df4d746918580f18cf8ea3175",
       "version_major": 2,
       "version_minor": 0
      },
      "text/plain": [
       "Button(button_style='success', description='Calculate', style=ButtonStyle(), tooltip='Calculate project estima…"
      ]
     },
     "metadata": {},
     "output_type": "display_data"
    }
   ],
   "source": [
    "import math\n",
    "\n",
    "APPROACHES = (\n",
    "    (68, 1),\n",
    "    (90, 1.645),\n",
    "    (95, 2),\n",
    "    (99.7, 3),\n",
    ")\n",
    "out = widgets.Output(layout={'border': '1px solid black'})\n",
    "display(out)\n",
    "\n",
    "def recalculate():\n",
    "    proj_estimation = 0\n",
    "    proj_error = 0\n",
    "    for task in tasks.values():\n",
    "        if task.is_active:\n",
    "            task.calculate()\n",
    "            proj_estimation += task.estimation\n",
    "            proj_error += task.deviation ** 2\n",
    "    \n",
    "    proj_error = math.sqrt(proj_error)\n",
    "    \n",
    "    return proj_estimation, proj_error\n",
    "\n",
    "\n",
    "def show_estimations(b):\n",
    "    msg = 'The {confidence}% confidence interval for the true project work time is approximately: {estimation} hours ({minmax})'\n",
    "    proj_estimation, proj_error = recalculate()\n",
    "    \n",
    "    out.clear_output()\n",
    "    \n",
    "    for approach in APPROACHES:\n",
    "        confidence, multiplier = approach\n",
    "        error = proj_error * multiplier\n",
    "        \n",
    "        minmax = '{:.1f}h - {:.1f}h'.format(proj_estimation - error, proj_estimation + error)\n",
    "        estimation = '{:.1f} ± {:.1f}'.format(proj_estimation, error)\n",
    "        \n",
    "        with out:\n",
    "            print(msg.format(confidence = confidence, estimation = estimation, minmax = minmax)) \n",
    "\n",
    "button = widgets.Button(\n",
    "    description='Calculate',\n",
    "    tooltip='Calculate project estimation',\n",
    "    button_style='success',\n",
    ")\n",
    "button.on_click(show_estimations)\n",
    "button\n",
    "    "
   ]
  },
  {
   "cell_type": "code",
   "execution_count": null,
   "metadata": {},
   "outputs": [],
   "source": []
  }
 ],
 "metadata": {
  "kernelspec": {
   "display_name": "Python 3",
   "language": "python",
   "name": "python3"
  },
  "language_info": {
   "codemirror_mode": {
    "name": "ipython",
    "version": 3
   },
   "file_extension": ".py",
   "mimetype": "text/x-python",
   "name": "python",
   "nbconvert_exporter": "python",
   "pygments_lexer": "ipython3",
   "version": "3.7.0"
  }
 },
 "nbformat": 4,
 "nbformat_minor": 2
}
